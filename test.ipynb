{
  "nbformat": 4,
  "nbformat_minor": 0,
  "metadata": {
    "colab": {
      "provenance": [],
      "authorship_tag": "ABX9TyPPUO8FEuDifxM6yfRI/QKt",
      "include_colab_link": true
    },
    "kernelspec": {
      "name": "python3",
      "display_name": "Python 3"
    },
    "language_info": {
      "name": "python"
    }
  },
  "cells": [
    {
      "cell_type": "markdown",
      "metadata": {
        "id": "view-in-github",
        "colab_type": "text"
      },
      "source": [
        "<a href=\"https://colab.research.google.com/github/sonud4m/Godot-Test/blob/main/test.ipynb\" target=\"_parent\"><img src=\"https://colab.research.google.com/assets/colab-badge.svg\" alt=\"Open In Colab\"/></a>"
      ]
    },
    {
      "cell_type": "markdown",
      "source": [
        "# 2023.07.02\n"
      ],
      "metadata": {
        "id": "XK4zKuwpWtfW"
      }
    },
    {
      "cell_type": "code",
      "execution_count": null,
      "metadata": {
        "colab": {
          "base_uri": "https://localhost:8080/"
        },
        "id": "yYEqIArBDTki",
        "outputId": "b13251da-5999-4806-f313-812495c20e39"
      },
      "outputs": [
        {
          "output_type": "stream",
          "name": "stdout",
          "text": [
            "Hello World\n",
            "Hello World\n",
            "['a', 'b', 'c']\n",
            "3\n",
            "['a', 'b', 'c', 'd']\n",
            "['a', 'c', 'd']\n",
            "['a', 'c', 'd', '100', '200']\n",
            "['a', 'c', 'd', '100', '200', '300', '400']\n",
            "['c', 'd', '100']\n"
          ]
        }
      ],
      "source": [
        "print(\"Hello World\")\n",
        "\n",
        "x = \"Hello World\"\n",
        "print(x)\n",
        "\n",
        "#リストを定義\n",
        "list = [\"a\", \"b\", \"c\"]\n",
        "\n",
        "print(list)\n",
        "\n",
        "#リストの要素数を出力\n",
        "print(len(list))\n",
        "\n",
        "#リストに要素を追加\n",
        "list.append(\"d\")\n",
        "print(list)\n",
        "\n",
        "#リストの要素を削除\n",
        "list.remove(\"b\")\n",
        "print(list)\n",
        "\n",
        "#2つのリストを結合(extendの場合)\n",
        "list2 = [\"100\", \"200\"]\n",
        "list.extend(list2)\n",
        "print(list)\n",
        "\n",
        "#2つのリストを結合(+の場合)\n",
        "list3 = [\"300\", \"400\"]\n",
        "newlist = list + list3\n",
        "print(newlist)\n",
        "\n",
        "\n",
        "#リストを分割(インデックス番号で指定)\n",
        "#開始インデックスを指定していない場合は最初の要素から\n",
        "#終了インデックスを指定していない場合は最後の要素まで\n",
        "print(newlist[1:4])\n"
      ]
    },
    {
      "cell_type": "code",
      "source": [
        "#辞書の定義\n",
        "lib = {\"a\":100, \"b\":200, \"c\":300}\n",
        "print(lib)\n",
        "\n",
        "#辞書に要素を追加(要素指定で編集も可能)\n",
        "lib[\"d\"] = 400\n",
        "print(lib)\n",
        "\n",
        "#2つの辞書を結合(updateの場合)\n",
        "lib2 = {\"e\":500, \"f\":600}\n",
        "lib.update(lib2)\n",
        "print(lib)\n",
        "\n",
        "#2つの辞書を結合(バーティカルバーの場合)Phthon3.9以上必須\n",
        "lib3 = {\"g\":700, \"h\":800}\n",
        "newlib = lib | lib3\n",
        "print(newlib)\n",
        "\n",
        "#要素数を取得\n",
        "newlist_len = len(newlist)\n",
        "print(newlist_len)\n"
      ],
      "metadata": {
        "colab": {
          "base_uri": "https://localhost:8080/"
        },
        "id": "6a_XhxZuZXo7",
        "outputId": "4eb1cca7-b0a0-40a3-b16e-09a4ad32a773"
      },
      "execution_count": null,
      "outputs": [
        {
          "output_type": "stream",
          "name": "stdout",
          "text": [
            "{'a': 100, 'b': 200, 'c': 300}\n",
            "{'a': 100, 'b': 200, 'c': 300, 'd': 400}\n",
            "{'a': 100, 'b': 200, 'c': 300, 'd': 400, 'e': 500, 'f': 600}\n",
            "{'a': 100, 'b': 200, 'c': 300, 'd': 400, 'e': 500, 'f': 600, 'g': 700, 'h': 800}\n",
            "7\n"
          ]
        }
      ]
    },
    {
      "cell_type": "code",
      "source": [
        "#条件分岐\n",
        "x = 9\n",
        "if x >= 10:\n",
        "  print(\"10以上\")\n",
        "elif x >= 0:\n",
        "  print(\"10未満0以上\")\n",
        "else:\n",
        "  print(\"0未満\")\n",
        "\n",
        "#繰り返し文\n",
        "#リストの場合\n",
        "x_list = [100, 190, 2980]\n",
        "for x in x_list:\n",
        "  #str()で文字列型に変換してから+で結合\n",
        "  x_yen = str(x) + \"円\"\n",
        "  print(x_yen)\n",
        "\n",
        "#辞書の場合\n",
        "x_dict = {\"apple\":100, \"banana\":350}\n",
        "#辞書はkeyとvalueの2つの変数を設定\n",
        "for key, value in x_dict.items():\n",
        "  text = key + \"は\" + str(value) + \"円です\"\n",
        "  print(text)\n",
        "\n",
        "#連番(range)\n",
        "for x in range(10):\n",
        "  print(x)"
      ],
      "metadata": {
        "colab": {
          "base_uri": "https://localhost:8080/"
        },
        "id": "JpTos01p7LDQ",
        "outputId": "dbce03ba-7918-431b-9ac1-ad47e2de9470"
      },
      "execution_count": 50,
      "outputs": [
        {
          "output_type": "stream",
          "name": "stdout",
          "text": [
            "10未満0以上\n",
            "100円\n",
            "190円\n",
            "2980円\n",
            "appleは100円です\n",
            "bananaは350円です\n",
            "0\n",
            "1\n",
            "2\n",
            "3\n",
            "4\n",
            "5\n",
            "6\n",
            "7\n",
            "8\n",
            "9\n"
          ]
        }
      ]
    },
    {
      "cell_type": "markdown",
      "source": [
        "# 2023.07.03\n"
      ],
      "metadata": {
        "id": "gx-ruD4YJtC3"
      }
    },
    {
      "cell_type": "code",
      "source": [
        "from traitlets.config.application import ApplicationError\n",
        "#条件式\n",
        "x = 10\n",
        "resultx = x == 10\n",
        "print(resultx)\n",
        "\n",
        "y = 11\n",
        "resulty = y ==10\n",
        "print(resulty)\n",
        "\n",
        "#大小比較\n",
        "a = 10\n",
        "b = 20\n",
        "result1 = a >= b\n",
        "print(result1)\n",
        "result2 = a < b\n",
        "print(result2)\n",
        "\n",
        "#包含の条件\n",
        "a = \"A\"\n",
        "result3 = a in \"Apple\"\n",
        "print(result3)\n",
        "\n",
        "b = \"apple\"\n",
        "result4 = b in [\"apple\", \"banana\"]\n",
        "print(result4)\n",
        "\n",
        "#複数の条件の組み合わせ\n",
        "age = 19\n",
        "gender = \"女性\"\n",
        "result5 = (age >= 20) and (gender == \"女性\")\n",
        "print(result5)\n",
        "result6 = (age >= 20) or (gender == \"女性\")\n",
        "print(result6)\n",
        "\n",
        "#否定\n",
        "age1 = 30\n",
        "result7 = not (age1 >= 20)\n",
        "print(result7)\n",
        "\n"
      ],
      "metadata": {
        "colab": {
          "base_uri": "https://localhost:8080/"
        },
        "id": "58ryPp_dJqwo",
        "outputId": "2821b6d9-4c0c-4cf7-af21-20bbc7cc89d2"
      },
      "execution_count": 12,
      "outputs": [
        {
          "output_type": "stream",
          "name": "stdout",
          "text": [
            "True\n",
            "False\n",
            "False\n",
            "True\n",
            "True\n",
            "True\n",
            "False\n",
            "True\n",
            "False\n"
          ]
        }
      ]
    },
    {
      "cell_type": "code",
      "source": [
        "#演算\n",
        "calc_result = 5 + 10\n",
        "print(calc_result)\n",
        "\n",
        "calc_result2 = 5 ** 2\n",
        "print(calc_result2)\n"
      ],
      "metadata": {
        "colab": {
          "base_uri": "https://localhost:8080/"
        },
        "id": "2-NMBZzlNDJA",
        "outputId": "7bedc212-c3a8-4bd4-d1ed-2d6ad3bdf4c5"
      },
      "execution_count": 14,
      "outputs": [
        {
          "output_type": "stream",
          "name": "stdout",
          "text": [
            "15\n",
            "25\n"
          ]
        }
      ]
    },
    {
      "cell_type": "code",
      "source": [
        "#関数\n",
        "def print_banana():\n",
        "  print(\"banana\")\n",
        "\n",
        "print_banana()\n",
        "\n",
        "def print_text(text):\n",
        "  print(text)\n",
        "\n",
        "print_text(\"orange\")\n",
        "\n",
        "def question_text(text):\n",
        "  text_q = text + \"?\"\n",
        "  return text_q\n",
        "\n",
        "result_text = question_text(\"apple\")\n",
        "print(result_text)\n",
        "\n",
        "def question_exclamation_text(text1, text2):\n",
        "  return_text1 = text1 + \"?\"\n",
        "  return_text2 = text2 + \"!\"\n",
        "  return return_text1, return_text2\n",
        "\n",
        "r1, r2 = question_exclamation_text(\"apple\", \"banana\")\n",
        "print(r1)\n",
        "print(r2)"
      ],
      "metadata": {
        "colab": {
          "base_uri": "https://localhost:8080/"
        },
        "id": "0BOIBW1yOv1a",
        "outputId": "448def57-6ee0-4f39-c247-76dbfd2130a0"
      },
      "execution_count": 18,
      "outputs": [
        {
          "output_type": "stream",
          "name": "stdout",
          "text": [
            "banana\n",
            "orange\n",
            "apple?\n",
            "apple?\n",
            "banana!\n"
          ]
        }
      ]
    },
    {
      "cell_type": "code",
      "source": [
        "#クラス\n",
        "#bmi計算クラス\n",
        "class BodyCondition:\n",
        "  def __init__(self, arg_weight, arg_height):\n",
        "    self.weight = arg_weight\n",
        "    self.height = arg_height\n",
        "\n",
        "  def bmi_calc(self):\n",
        "     m_height = self.height /100\n",
        "     bmi = self.weight / m_height / m_height\n",
        "     print(bmi)\n",
        "\n",
        "bc = BodyCondition(55, 150)\n",
        "bc.bmi_calc()"
      ],
      "metadata": {
        "colab": {
          "base_uri": "https://localhost:8080/"
        },
        "id": "7FfeTdbjYPwI",
        "outputId": "0cb2d194-d87f-4cdc-9c77-22076b052b92"
      },
      "execution_count": 20,
      "outputs": [
        {
          "output_type": "stream",
          "name": "stdout",
          "text": [
            "24.444444444444443\n"
          ]
        }
      ]
    }
  ]
}